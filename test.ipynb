{
 "cells": [
  {
   "cell_type": "markdown",
   "metadata": {},
   "source": [
    "#Just to test out some topic the whole code will be written in the ID#.py\n"
   ]
  },
  {
   "cell_type": "code",
   "execution_count": null,
   "metadata": {},
   "outputs": [],
   "source": [
    "print(\"Test\")"
   ]
  },
  {
   "cell_type": "code",
   "execution_count": 9,
   "metadata": {},
   "outputs": [
    {
     "name": "stdout",
     "output_type": "stream",
     "text": [
      "0.28199895063255087\n"
     ]
    }
   ],
   "source": [
    "import math\n",
    "def entropy(input_value):\n",
    "    output = -input_value*math.log2(input_value)\n",
    "    return output\n",
    "en1 = entropy(7/9)\n",
    "print(en1)"
   ]
  },
  {
   "cell_type": "code",
   "execution_count": 4,
   "metadata": {},
   "outputs": [
    {
     "data": {
      "text/plain": [
       "1.000109413716288"
      ]
     },
     "execution_count": 4,
     "metadata": {},
     "output_type": "execute_result"
    }
   ],
   "source": [
    "import math\n",
    "-(3/14)*math.log2(3/14)-(6/14)*math.log2(6/14)\n"
   ]
  },
  {
   "cell_type": "code",
   "execution_count": 11,
   "metadata": {},
   "outputs": [],
   "source": [
    "from parse import parse"
   ]
  },
  {
   "cell_type": "code",
   "execution_count": 5,
   "metadata": {},
   "outputs": [
    {
     "name": "stdout",
     "output_type": "stream",
     "text": [
      "[{'Outlook': '0', 'Temperature': '0', 'Humidity': '1', 'Wind': '0', 'Class': '0'}, {'Outlook': '0', 'Temperature': '0', 'Humidity': '1', 'Wind': '1', 'Class': '0'}, {'Outlook': '1', 'Temperature': '0', 'Humidity': '1', 'Wind': '0', 'Class': '1'}, {'Outlook': '1', 'Temperature': '1', 'Humidity': '1', 'Wind': '0', 'Class': '1'}, {'Outlook': '1', 'Temperature': '1', 'Humidity': '0', 'Wind': '0', 'Class': '1'}, {'Outlook': '1', 'Temperature': '1', 'Humidity': '0', 'Wind': '1', 'Class': '0'}, {'Outlook': '1', 'Temperature': '1', 'Humidity': '0', 'Wind': '1', 'Class': '1'}, {'Outlook': '0', 'Temperature': '1', 'Humidity': '1', 'Wind': '0', 'Class': '0'}, {'Outlook': '0', 'Temperature': '1', 'Humidity': '0', 'Wind': '0', 'Class': '1'}, {'Outlook': '1', 'Temperature': '1', 'Humidity': '0', 'Wind': '0', 'Class': '1'}, {'Outlook': '0', 'Temperature': '1', 'Humidity': '0', 'Wind': '1', 'Class': '1'}, {'Outlook': '1', 'Temperature': '1', 'Humidity': '1', 'Wind': '1', 'Class': '1'}, {'Outlook': '1', 'Temperature': '0', 'Humidity': '0', 'Wind': '0', 'Class': '1'}, {'Outlook': '1', 'Temperature': '1', 'Humidity': '1', 'Wind': '1', 'Class': '0'}]\n"
     ]
    }
   ],
   "source": [
    "import pandas as pd\n",
    "from parse import parse\n",
    "x = parse(\"/Users/saichakradhar/Downloads/HWM1/tennis.data\")\n",
    "print(x)"
   ]
  },
  {
   "cell_type": "code",
   "execution_count": 13,
   "metadata": {},
   "outputs": [
    {
     "data": {
      "text/plain": [
       "[{'Outlook': '0',\n",
       "  'Temperature': '0',\n",
       "  'Humidity': '1',\n",
       "  'Wind': '0',\n",
       "  'Class': '0'},\n",
       " {'Outlook': '0',\n",
       "  'Temperature': '0',\n",
       "  'Humidity': '1',\n",
       "  'Wind': '1',\n",
       "  'Class': '0'},\n",
       " {'Outlook': '1',\n",
       "  'Temperature': '0',\n",
       "  'Humidity': '1',\n",
       "  'Wind': '0',\n",
       "  'Class': '1'},\n",
       " {'Outlook': '1',\n",
       "  'Temperature': '1',\n",
       "  'Humidity': '1',\n",
       "  'Wind': '0',\n",
       "  'Class': '1'},\n",
       " {'Outlook': '1',\n",
       "  'Temperature': '1',\n",
       "  'Humidity': '0',\n",
       "  'Wind': '0',\n",
       "  'Class': '1'},\n",
       " {'Outlook': '1',\n",
       "  'Temperature': '1',\n",
       "  'Humidity': '0',\n",
       "  'Wind': '1',\n",
       "  'Class': '0'},\n",
       " {'Outlook': '1',\n",
       "  'Temperature': '1',\n",
       "  'Humidity': '0',\n",
       "  'Wind': '1',\n",
       "  'Class': '1'},\n",
       " {'Outlook': '0',\n",
       "  'Temperature': '1',\n",
       "  'Humidity': '1',\n",
       "  'Wind': '0',\n",
       "  'Class': '0'},\n",
       " {'Outlook': '0',\n",
       "  'Temperature': '1',\n",
       "  'Humidity': '0',\n",
       "  'Wind': '0',\n",
       "  'Class': '1'},\n",
       " {'Outlook': '1',\n",
       "  'Temperature': '1',\n",
       "  'Humidity': '0',\n",
       "  'Wind': '0',\n",
       "  'Class': '1'},\n",
       " {'Outlook': '0',\n",
       "  'Temperature': '1',\n",
       "  'Humidity': '0',\n",
       "  'Wind': '1',\n",
       "  'Class': '1'},\n",
       " {'Outlook': '1',\n",
       "  'Temperature': '1',\n",
       "  'Humidity': '1',\n",
       "  'Wind': '1',\n",
       "  'Class': '1'},\n",
       " {'Outlook': '1',\n",
       "  'Temperature': '0',\n",
       "  'Humidity': '0',\n",
       "  'Wind': '0',\n",
       "  'Class': '1'},\n",
       " {'Outlook': '1',\n",
       "  'Temperature': '1',\n",
       "  'Humidity': '1',\n",
       "  'Wind': '1',\n",
       "  'Class': '0'}]"
      ]
     },
     "execution_count": 13,
     "metadata": {},
     "output_type": "execute_result"
    }
   ],
   "source": [
    "x"
   ]
  },
  {
   "cell_type": "code",
   "execution_count": null,
   "metadata": {},
   "outputs": [],
   "source": []
  }
 ],
 "metadata": {
  "kernelspec": {
   "display_name": "Python 3",
   "language": "python",
   "name": "python3"
  },
  "language_info": {
   "codemirror_mode": {
    "name": "ipython",
    "version": 3
   },
   "file_extension": ".py",
   "mimetype": "text/x-python",
   "name": "python",
   "nbconvert_exporter": "python",
   "pygments_lexer": "ipython3",
   "version": "3.11.5"
  },
  "orig_nbformat": 4
 },
 "nbformat": 4,
 "nbformat_minor": 2
}
